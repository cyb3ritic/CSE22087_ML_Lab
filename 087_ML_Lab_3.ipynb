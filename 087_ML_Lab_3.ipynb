{
 "cells": [
  {
   "cell_type": "code",
   "execution_count": 1,
   "id": "56f3f6f7-74f0-4485-8b30-23b56a044d32",
   "metadata": {},
   "outputs": [],
   "source": [
    "import pandas as pd\n",
    "import numpy as np\n",
    "import matplotlib.pyplot as plt"
   ]
  },
  {
   "cell_type": "code",
   "execution_count": 2,
   "id": "3b26e78e-ae77-40da-9ec7-69e98d08c387",
   "metadata": {},
   "outputs": [
    {
     "data": {
      "text/html": [
       "<div>\n",
       "<style scoped>\n",
       "    .dataframe tbody tr th:only-of-type {\n",
       "        vertical-align: middle;\n",
       "    }\n",
       "\n",
       "    .dataframe tbody tr th {\n",
       "        vertical-align: top;\n",
       "    }\n",
       "\n",
       "    .dataframe thead th {\n",
       "        text-align: right;\n",
       "    }\n",
       "</style>\n",
       "<table border=\"1\" class=\"dataframe\">\n",
       "  <thead>\n",
       "    <tr style=\"text-align: right;\">\n",
       "      <th></th>\n",
       "      <th>image</th>\n",
       "      <th>Valence_score</th>\n",
       "      <th>Arousal_score</th>\n",
       "    </tr>\n",
       "  </thead>\n",
       "  <tbody>\n",
       "    <tr>\n",
       "      <th>0</th>\n",
       "      <td>30</td>\n",
       "      <td>6</td>\n",
       "      <td>0</td>\n",
       "    </tr>\n",
       "    <tr>\n",
       "      <th>1</th>\n",
       "      <td>86</td>\n",
       "      <td>5</td>\n",
       "      <td>1</td>\n",
       "    </tr>\n",
       "    <tr>\n",
       "      <th>2</th>\n",
       "      <td>80</td>\n",
       "      <td>2</td>\n",
       "      <td>1</td>\n",
       "    </tr>\n",
       "    <tr>\n",
       "      <th>3</th>\n",
       "      <td>166</td>\n",
       "      <td>3</td>\n",
       "      <td>0</td>\n",
       "    </tr>\n",
       "    <tr>\n",
       "      <th>4</th>\n",
       "      <td>30</td>\n",
       "      <td>8</td>\n",
       "      <td>1</td>\n",
       "    </tr>\n",
       "  </tbody>\n",
       "</table>\n",
       "</div>"
      ],
      "text/plain": [
       "   image  Valence_score  Arousal_score\n",
       "0     30              6              0\n",
       "1     86              5              1\n",
       "2     80              2              1\n",
       "3    166              3              0\n",
       "4     30              8              1"
      ]
     },
     "execution_count": 2,
     "metadata": {},
     "output_type": "execute_result"
    }
   ],
   "source": [
    "df = pd.DataFrame()\n",
    "rows = [29,86,80,166]\n",
    "for j in range(1,33):\n",
    "    if j == 24:\n",
    "        continue\n",
    "    data = pd.read_excel(f\"./data/P{j}/val_aro.xls\")\n",
    "    extracted_rows = data.iloc[rows,:]\n",
    "    df = pd.concat([df, extracted_rows], ignore_index=True)\n",
    "df.head()"
   ]
  },
  {
   "cell_type": "code",
   "execution_count": 3,
   "id": "f0bf39f2-d2d9-49d2-86fe-a889f2289a76",
   "metadata": {},
   "outputs": [
    {
     "data": {
      "text/html": [
       "<div>\n",
       "<style scoped>\n",
       "    .dataframe tbody tr th:only-of-type {\n",
       "        vertical-align: middle;\n",
       "    }\n",
       "\n",
       "    .dataframe tbody tr th {\n",
       "        vertical-align: top;\n",
       "    }\n",
       "\n",
       "    .dataframe thead th {\n",
       "        text-align: right;\n",
       "    }\n",
       "</style>\n",
       "<table border=\"1\" class=\"dataframe\">\n",
       "  <thead>\n",
       "    <tr style=\"text-align: right;\">\n",
       "      <th></th>\n",
       "      <th>image</th>\n",
       "      <th>Valence_score</th>\n",
       "      <th>Arousal_score</th>\n",
       "      <th>class</th>\n",
       "    </tr>\n",
       "  </thead>\n",
       "  <tbody>\n",
       "    <tr>\n",
       "      <th>0</th>\n",
       "      <td>30</td>\n",
       "      <td>6</td>\n",
       "      <td>0</td>\n",
       "      <td>Pleasant</td>\n",
       "    </tr>\n",
       "    <tr>\n",
       "      <th>1</th>\n",
       "      <td>86</td>\n",
       "      <td>5</td>\n",
       "      <td>1</td>\n",
       "      <td>Pleasant</td>\n",
       "    </tr>\n",
       "    <tr>\n",
       "      <th>2</th>\n",
       "      <td>80</td>\n",
       "      <td>2</td>\n",
       "      <td>1</td>\n",
       "      <td>unpleasant</td>\n",
       "    </tr>\n",
       "    <tr>\n",
       "      <th>3</th>\n",
       "      <td>166</td>\n",
       "      <td>3</td>\n",
       "      <td>0</td>\n",
       "      <td>unpleasant</td>\n",
       "    </tr>\n",
       "    <tr>\n",
       "      <th>4</th>\n",
       "      <td>30</td>\n",
       "      <td>8</td>\n",
       "      <td>1</td>\n",
       "      <td>Pleasant</td>\n",
       "    </tr>\n",
       "  </tbody>\n",
       "</table>\n",
       "</div>"
      ],
      "text/plain": [
       "   image  Valence_score  Arousal_score       class\n",
       "0     30              6              0    Pleasant\n",
       "1     86              5              1    Pleasant\n",
       "2     80              2              1  unpleasant\n",
       "3    166              3              0  unpleasant\n",
       "4     30              8              1    Pleasant"
      ]
     },
     "execution_count": 3,
     "metadata": {},
     "output_type": "execute_result"
    }
   ],
   "source": [
    "df['class'] = df['image'].apply(lambda x: \"Pleasant\" if x in [30, 86] else \"unpleasant\")\n",
    "df.head()"
   ]
  },
  {
   "cell_type": "code",
   "execution_count": 4,
   "id": "7ea1fda3-0bb7-481a-aa76-04b78faa1b6f",
   "metadata": {},
   "outputs": [],
   "source": [
    "df.drop(\"image\",axis=1,inplace = True)"
   ]
  },
  {
   "cell_type": "code",
   "execution_count": 5,
   "id": "7aa53120-56d1-4576-8ffc-179d4f92a4df",
   "metadata": {},
   "outputs": [
    {
     "data": {
      "text/plain": [
       "array([[4.7027027 , 0.54054054],\n",
       "       [4.56321839, 0.44827586]])"
      ]
     },
     "execution_count": 5,
     "metadata": {},
     "output_type": "execute_result"
    }
   ],
   "source": [
    "temp = df.groupby('class').mean()\n",
    "meanvec = np.array(temp)\n",
    "meanvec"
   ]
  },
  {
   "cell_type": "code",
   "execution_count": 6,
   "id": "3fdd7e1d-dcb2-4caf-ac7a-ec7ec044c1ef",
   "metadata": {},
   "outputs": [
    {
     "data": {
      "text/plain": [
       "array([[2.35542948, 0.50522792],\n",
       "       [2.33128944, 0.50020044]])"
      ]
     },
     "execution_count": 6,
     "metadata": {},
     "output_type": "execute_result"
    }
   ],
   "source": [
    "temp = df.groupby('class').std()\n",
    "stdvec = np.array(temp)\n",
    "stdvec"
   ]
  },
  {
   "cell_type": "code",
   "execution_count": 7,
   "id": "2733fc2f-f7c4-48b9-9dd6-59c6ee784baf",
   "metadata": {},
   "outputs": [
    {
     "name": "stdout",
     "output_type": "stream",
     "text": [
      "Distance between mean vectors:  0.16723828556628706\n"
     ]
    }
   ],
   "source": [
    "print(\"Distance between mean vectors: \", np.linalg.norm(meanvec[0] - meanvec[1]))"
   ]
  },
  {
   "cell_type": "code",
   "execution_count": 8,
   "id": "494dc409-8887-441a-b84a-dde4464d02c1",
   "metadata": {},
   "outputs": [
    {
     "data": {
      "image/png": "[encoded data removed]",
      "text/plain": [
       "<Figure size 640x480 with 1 Axes>"
      ]
     },
     "metadata": {},
     "output_type": "display_data"
    },
    {
     "name": "stdout",
     "output_type": "stream",
     "text": [
      "Mean of Valence_score: 4.604838709677419\n",
      "Variance of Valence_score: 5.384170135275753\n"
     ]
    }
   ],
   "source": [
    "feature = df['Valence_score']\n",
    "\n",
    "# Generate the histogram data (bins can be adjusted as needed)\n",
    "hist, bin_edges = np.histogram(feature, bins=5)\n",
    "\n",
    "# Plot the histogram\n",
    "plt.hist(feature, bins=5, edgecolor='black')\n",
    "plt.title('Histogram of Valence')\n",
    "plt.xlabel('Valence Value')\n",
    "plt.ylabel('Frequency')\n",
    "plt.show()\n",
    "\n",
    "# Calculate the mean and variance of the feature\n",
    "mean = np.mean(feature)\n",
    "variance = np.var(feature)\n",
    "\n",
    "print(\"Mean of Valence_score:\", mean)\n",
    "print(\"Variance of Valence_score:\", variance)"
   ]
  },
  {
   "cell_type": "code",
   "execution_count": 9,
   "id": "2b4ffcea-4225-4ee3-8c5b-9fa4a27e2b9d",
   "metadata": {},
   "outputs": [
    {
     "data": {
      "text/html": [
       "<div>\n",
       "<style scoped>\n",
       "    .dataframe tbody tr th:only-of-type {\n",
       "        vertical-align: middle;\n",
       "    }\n",
       "\n",
       "    .dataframe tbody tr th {\n",
       "        vertical-align: top;\n",
       "    }\n",
       "\n",
       "    .dataframe thead th {\n",
       "        text-align: right;\n",
       "    }\n",
       "</style>\n",
       "<table border=\"1\" class=\"dataframe\">\n",
       "  <thead>\n",
       "    <tr style=\"text-align: right;\">\n",
       "      <th></th>\n",
       "      <th>Valence_score</th>\n",
       "      <th>Arousal_score</th>\n",
       "      <th>class</th>\n",
       "    </tr>\n",
       "  </thead>\n",
       "  <tbody>\n",
       "    <tr>\n",
       "      <th>0</th>\n",
       "      <td>6</td>\n",
       "      <td>0</td>\n",
       "      <td>Pleasant</td>\n",
       "    </tr>\n",
       "    <tr>\n",
       "      <th>1</th>\n",
       "      <td>5</td>\n",
       "      <td>1</td>\n",
       "      <td>Pleasant</td>\n",
       "    </tr>\n",
       "    <tr>\n",
       "      <th>2</th>\n",
       "      <td>2</td>\n",
       "      <td>1</td>\n",
       "      <td>unpleasant</td>\n",
       "    </tr>\n",
       "    <tr>\n",
       "      <th>3</th>\n",
       "      <td>3</td>\n",
       "      <td>0</td>\n",
       "      <td>unpleasant</td>\n",
       "    </tr>\n",
       "    <tr>\n",
       "      <th>4</th>\n",
       "      <td>8</td>\n",
       "      <td>1</td>\n",
       "      <td>Pleasant</td>\n",
       "    </tr>\n",
       "  </tbody>\n",
       "</table>\n",
       "</div>"
      ],
      "text/plain": [
       "   Valence_score  Arousal_score       class\n",
       "0              6              0    Pleasant\n",
       "1              5              1    Pleasant\n",
       "2              2              1  unpleasant\n",
       "3              3              0  unpleasant\n",
       "4              8              1    Pleasant"
      ]
     },
     "execution_count": 9,
     "metadata": {},
     "output_type": "execute_result"
    }
   ],
   "source": [
    "df.head()"
   ]
  },
  {
   "cell_type": "code",
   "execution_count": 10,
   "id": "cb6834f4-fac2-4e30-a6b4-af9b087bc94d",
   "metadata": {},
   "outputs": [
    {
     "data": {
      "image/png": "[encoded data removed]",
      "text/plain": [
       "<Figure size 640x480 with 1 Axes>"
      ]
     },
     "metadata": {},
     "output_type": "display_data"
    },
    {
     "name": "stdout",
     "output_type": "stream",
     "text": [
      "Minkowski distance with r=1: 512.0\n",
      "Minkowski distance with r=2: 53.04714883949938\n",
      "Minkowski distance with r=3: 25.815258486104234\n",
      "Minkowski distance with r=4: 18.262957189232704\n",
      "Minkowski distance with r=5: 14.944908410739307\n",
      "Minkowski distance with r=6: 13.131869578986747\n",
      "Minkowski distance with r=7: 12.008381467178484\n",
      "Minkowski distance with r=8: 11.253282015960037\n",
      "Minkowski distance with r=9: 10.716254047213877\n",
      "Minkowski distance with r=10: 10.318090042347237\n"
     ]
    }
   ],
   "source": [
    "x = df['Valence_score'].values\n",
    "y = df['Arousal_score'].values\n",
    "\n",
    "# Calculate Minkowski distance for r from 1 to 10\n",
    "distances = []\n",
    "r_values = range(1, 11)\n",
    "\n",
    "for r in r_values:\n",
    "    distance = np.sum(np.abs(x - y) ** r) ** (1 / r)\n",
    "    distances.append(distance)\n",
    "\n",
    "# Plot the distances\n",
    "plt.plot(r_values, distances, marker='o')\n",
    "plt.title('Minkowski Distance for r from 1 to 10')\n",
    "plt.xlabel('r')\n",
    "plt.ylabel('Distance')\n",
    "plt.grid(True)\n",
    "plt.show()\n",
    "\n",
    "# Print the distances for each r\n",
    "for r, dist in zip(r_values, distances):\n",
    "    print(f\"Minkowski distance with r={r}: {dist}\")"
   ]
  },
  {
   "cell_type": "code",
   "execution_count": 11,
   "id": "047aa1cb-fadc-41b3-9fc6-a3b922bbb972",
   "metadata": {},
   "outputs": [],
   "source": [
    "from sklearn.model_selection import train_test_split\n"
   ]
  },
  {
   "cell_type": "code",
   "execution_count": 12,
   "id": "205ddca1-6bc1-48a0-ac80-5b96773cdcd2",
   "metadata": {},
   "outputs": [],
   "source": [
    "X = df[['Valence_score', 'Arousal_score']].values\n",
    "y = df['class'].values"
   ]
  },
  {
   "cell_type": "code",
   "execution_count": 13,
   "id": "9e87ad98-7cea-4ba7-860e-3dd705abef2a",
   "metadata": {},
   "outputs": [],
   "source": [
    "X_train, X_test, y_train, y_test = train_test_split(X, y, test_size=0.3)\n"
   ]
  },
  {
   "cell_type": "code",
   "execution_count": 14,
   "id": "be14905a-a83e-4392-a133-198c89e0476d",
   "metadata": {},
   "outputs": [],
   "source": [
    "from sklearn.neighbors import KNeighborsClassifier\n"
   ]
  },
  {
   "cell_type": "code",
   "execution_count": 15,
   "id": "b9ab4d9d-dde9-4c5d-88c7-fe656a41ce1f",
   "metadata": {},
   "outputs": [
    {
     "data": {
      "text/plain": [
       "0.7105263157894737"
      ]
     },
     "execution_count": 15,
     "metadata": {},
     "output_type": "execute_result"
    }
   ],
   "source": [
    "# Create a kNN classifier with k=3\n",
    "neigh = KNeighborsClassifier(n_neighbors=3)\n",
    "\n",
    "# Train the classifier using the training data\n",
    "neigh.fit(X_train, y_train)\n",
    "\n",
    "neigh.score(X_test, y_test)\n",
    "\n"
   ]
  },
  {
   "cell_type": "code",
   "execution_count": 16,
   "id": "44e3c384-1583-449e-86d5-6011ce58aa6f",
   "metadata": {},
   "outputs": [
    {
     "data": {
      "text/plain": [
       "array(['unpleasant'], dtype=object)"
      ]
     },
     "execution_count": 16,
     "metadata": {},
     "output_type": "execute_result"
    }
   ],
   "source": [
    "neigh.predict([X_test[0]])"
   ]
  },
  {
   "cell_type": "code",
   "execution_count": 17,
   "id": "2ac2f854-ae63-42e6-afa1-28a1a1b8a47f",
   "metadata": {},
   "outputs": [
    {
     "data": {
      "text/plain": [
       "0.6842105263157895"
      ]
     },
     "execution_count": 17,
     "metadata": {},
     "output_type": "execute_result"
    }
   ],
   "source": [
    "neigh = KNeighborsClassifier(n_neighbors=1)\n",
    "\n",
    "# Train the classifier using the training data\n",
    "neigh.fit(X_train, y_train)\n",
    "\n",
    "neigh.score(X_test, y_test)\n",
    "\n"
   ]
  },
  {
   "cell_type": "code",
   "execution_count": 18,
   "id": "5e1a5867-b050-44ac-a79c-8b463e1f1cd9",
   "metadata": {},
   "outputs": [
    {
     "data": {
      "text/plain": [
       "array(['Pleasant'], dtype=object)"
      ]
     },
     "execution_count": 18,
     "metadata": {},
     "output_type": "execute_result"
    }
   ],
   "source": [
    "neigh.predict([X_test[0]])"
   ]
  },
  {
   "cell_type": "code",
   "execution_count": 19,
   "id": "ffcc7ecf-a5a4-4f1e-9cef-62447e5823eb",
   "metadata": {},
   "outputs": [],
   "source": [
    "from sklearn.metrics import accuracy_score\n"
   ]
  },
  {
   "cell_type": "code",
   "execution_count": 20,
   "id": "b6a2e4f1-4db1-48f8-a84e-cefbef912efe",
   "metadata": {},
   "outputs": [
    {
     "name": "stdout",
     "output_type": "stream",
     "text": [
      "Accuracy with k=1: 0.6842105263157895\n",
      "Accuracy with k=2: 0.631578947368421\n",
      "Accuracy with k=3: 0.7105263157894737\n",
      "Accuracy with k=4: 0.6842105263157895\n",
      "Accuracy with k=5: 0.7105263157894737\n",
      "Accuracy with k=6: 0.7105263157894737\n",
      "Accuracy with k=7: 0.7631578947368421\n",
      "Accuracy with k=8: 0.7105263157894737\n",
      "Accuracy with k=9: 0.7105263157894737\n",
      "Accuracy with k=10: 0.6842105263157895\n",
      "Accuracy with k=11: 0.7631578947368421\n"
     ]
    }
   ],
   "source": [
    "# List to store accuracy for different values of k\n",
    "accuracies = []\n",
    "\n",
    "# Vary k from 1 to 11\n",
    "k_values = range(1, 12)\n",
    "\n",
    "for k in k_values:\n",
    "    # Create and train the kNN classifier with the current k\n",
    "    neigh = KNeighborsClassifier(n_neighbors=k)\n",
    "    neigh.fit(X_train, y_train)\n",
    "    \n",
    "    # Predict on the test set\n",
    "    y_pred = neigh.predict(X_test)\n",
    "    \n",
    "    # Calculate accuracy\n",
    "    accuracy = accuracy_score(y_test, y_pred)\n",
    "    accuracies.append(accuracy)\n",
    "\n",
    "    print(f\"Accuracy with k={k}: {accuracy}\")\n",
    "\n"
   ]
  },
  {
   "cell_type": "code",
   "execution_count": 21,
   "id": "ca72e6db-d591-4837-a221-3e18f7b1836c",
   "metadata": {},
   "outputs": [
    {
     "data": {
      "image/png": "[encoded data removed]",
      "text/plain": [
       "<Figure size 640x480 with 1 Axes>"
      ]
     },
     "metadata": {},
     "output_type": "display_data"
    }
   ],
   "source": [
    "# Plot accuracy vs. k\n",
    "plt.plot(k_values, accuracies, marker='o')\n",
    "plt.title('Accuracy vs. k in kNN Classifier')\n",
    "plt.xlabel('k')\n",
    "plt.ylabel('Accuracy')\n",
    "plt.grid(True)\n",
    "plt.show()\n"
   ]
  },
  {
   "cell_type": "code",
   "execution_count": 22,
   "id": "8a65d644-aef1-4f40-91a3-00b962446bf8",
   "metadata": {},
   "outputs": [],
   "source": [
    "from sklearn.metrics import confusion_matrix, precision_score, recall_score, f1_score, classification_report\n",
    "import seaborn as sns"
   ]
  },
  {
   "cell_type": "code",
   "execution_count": 23,
   "id": "68018d9a-d940-4006-ab3f-5afde0b382d2",
   "metadata": {},
   "outputs": [],
   "source": [
    "# Create a kNN classifier with k=3\n",
    "neigh = KNeighborsClassifier(n_neighbors=3)\n",
    "\n",
    "# Train the classifier using the training data\n",
    "neigh.fit(X_train, y_train)\n",
    "\n",
    "# Predict on both training and testing sets\n",
    "y_train_pred = neigh.predict(X_train)\n",
    "y_test_pred = neigh.predict(X_test)\n"
   ]
  },
  {
   "cell_type": "code",
   "execution_count": 24,
   "id": "573161a5-eb00-43fd-8be5-c54579cc7549",
   "metadata": {
    "scrolled": true
   },
   "outputs": [
    {
     "name": "stdout",
     "output_type": "stream",
     "text": [
      "Confusion Matrix - Training Data:\n",
      " [[11 17]\n",
      " [ 6 52]]\n",
      "Confusion Matrix - Test Data:\n",
      " [[ 3  6]\n",
      " [ 5 24]]\n",
      "\n",
      "Classification Report - Training Data:\n",
      "              precision    recall  f1-score   support\n",
      "\n",
      "    Pleasant       0.65      0.39      0.49        28\n",
      "  unpleasant       0.75      0.90      0.82        58\n",
      "\n",
      "    accuracy                           0.73        86\n",
      "   macro avg       0.70      0.64      0.65        86\n",
      "weighted avg       0.72      0.73      0.71        86\n",
      "\n",
      "\n",
      "Classification Report - Test Data:\n",
      "              precision    recall  f1-score   support\n",
      "\n",
      "    Pleasant       0.38      0.33      0.35         9\n",
      "  unpleasant       0.80      0.83      0.81        29\n",
      "\n",
      "    accuracy                           0.71        38\n",
      "   macro avg       0.59      0.58      0.58        38\n",
      "weighted avg       0.70      0.71      0.70        38\n",
      "\n"
     ]
    },
    {
     "data": {
      "image/png": "[encoded data removed]",
      "text/plain": [
       "<Figure size 1200x500 with 4 Axes>"
      ]
     },
     "metadata": {},
     "output_type": "display_data"
    }
   ],
   "source": [
    "# Confusion matrix for training data\n",
    "cm_train = confusion_matrix(y_train, y_train_pred)\n",
    "print(\"Confusion Matrix - Training Data:\\n\", cm_train)\n",
    "\n",
    "# Confusion matrix for test data\n",
    "cm_test = confusion_matrix(y_test, y_test_pred)\n",
    "print(\"Confusion Matrix - Test Data:\\n\", cm_test)\n",
    "\n",
    "# Calculate precision, recall, and F1-score for training data\n",
    "print(\"\\nClassification Report - Training Data:\")\n",
    "print(classification_report(y_train, y_train_pred))\n",
    "\n",
    "# Calculate precision, recall, and F1-score for test data\n",
    "print(\"\\nClassification Report - Test Data:\")\n",
    "print(classification_report(y_test, y_test_pred))\n",
    "\n",
    "# Plot confusion matrix\n",
    "fig, ax = plt.subplots(1, 2, figsize=(12, 5))\n",
    "sns.heatmap(cm_train, annot=True, fmt='d', cmap='Blues', ax=ax[0])\n",
    "ax[0].set_title('Confusion Matrix - Training Data')\n",
    "ax[0].set_xlabel('Predicted')\n",
    "ax[0].set_ylabel('Actual')\n",
    "\n",
    "sns.heatmap(cm_test, annot=True, fmt='d', cmap='Blues', ax=ax[1])\n",
    "ax[1].set_title('Confusion Matrix - Test Data')\n",
    "ax[1].set_xlabel('Predicted')\n",
    "ax[1].set_ylabel('Actual')\n",
    "\n",
    "plt.show()\n"
   ]
  },
  {
   "cell_type": "code",
   "execution_count": null,
   "id": "b19cde8b-6fff-4659-983f-85a72adfc786",
   "metadata": {},
   "outputs": [],
   "source": []
  }
 ],
 "metadata": {
  "kernelspec": {
   "display_name": "Python 3 (ipykernel)",
   "language": "python",
   "name": "python3"
  },
  "language_info": {
   "codemirror_mode": {
    "name": "ipython",
    "version": 3
   },
   "file_extension": ".py",
   "mimetype": "text/x-python",
   "name": "python",
   "nbconvert_exporter": "python",
   "pygments_lexer": "ipython3",
   "version": "3.12.4"
  }
 },
 "nbformat": 4,
 "nbformat_minor": 5
}
