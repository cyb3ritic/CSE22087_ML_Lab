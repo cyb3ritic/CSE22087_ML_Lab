{
 "cells": [
  {
   "cell_type": "markdown",
   "id": "3a4a3cb9-d752-48db-9214-ee53a515a0dc",
   "metadata": {},
   "source": [
    "***1. Consider the given list as [2, 7, 4, 1, 3, 6]. Write a program to count pairs of elements with\n",
    "sum equal to 10.***"
   ]
  },
  {
   "cell_type": "code",
   "execution_count": 1,
   "id": "d2ff238e-dc56-4989-8edc-db5234925eda",
   "metadata": {},
   "outputs": [],
   "source": [
    "a = [2,7,4,1,3,6]"
   ]
  },
  {
   "cell_type": "code",
   "execution_count": 2,
   "id": "5a195143-b711-4810-837b-35c015bd75ab",
   "metadata": {},
   "outputs": [],
   "source": [
    "def count_pairs(a):\n",
    "    count = 0\n",
    "    for i in a:\n",
    "        for j in a:\n",
    "            if i + j == 10:\n",
    "                print(f\"({i},{j})\")\n",
    "                count+=1\n",
    "    return count"
   ]
  },
  {
   "cell_type": "code",
   "execution_count": 3,
   "id": "4088aea8-1488-43e2-81ff-e81553a88c22",
   "metadata": {},
   "outputs": [
    {
     "name": "stdout",
     "output_type": "stream",
     "text": [
      "(7,3)\n",
      "(4,6)\n",
      "(3,7)\n",
      "(6,4)\n",
      "the total number of pairs whose sum is 10 is:  4\n"
     ]
    }
   ],
   "source": [
    "total_pairs = count_pairs(a)\n",
    "print(\"the total number of pairs whose sum is 10 is: \", total_pairs)"
   ]
  },
  {
   "cell_type": "code",
   "execution_count": null,
   "id": "77a26e96-0aac-4a2a-ba87-42132958912a",
   "metadata": {},
   "outputs": [],
   "source": []
  },
  {
   "cell_type": "markdown",
   "id": "d22201d8-3d60-4b4c-b82f-87461e279ef8",
   "metadata": {},
   "source": [
    "***2. Write a program that takes a list of real numbers as input and returns the range (difference\n",
    "between minimum and maximum) of the list. Check for list being less than 3 elements in\n",
    "which case return an error message (Ex: “Range determination not possible”). Given a list\n",
    "[5,3,8,1,0,4], the range is 8 (8-0).***"
   ]
  },
  {
   "cell_type": "code",
   "execution_count": 4,
   "id": "1098e3ed-90e2-403d-be23-2e01567b6d71",
   "metadata": {},
   "outputs": [
    {
     "name": "stdin",
     "output_type": "stream",
     "text": [
      "enter size:\t 3\n",
      "enter the number:\t 3\n",
      "enter the number:\t 6\n",
      "enter the number:\t 9\n"
     ]
    },
    {
     "name": "stdout",
     "output_type": "stream",
     "text": [
      "[3, 6, 9]\n"
     ]
    }
   ],
   "source": [
    "a=[]\n",
    "size = int(input(\"enter size:\\t\"))\n",
    "for i in range(size):\n",
    "    a.append(int(input(\"enter the number:\\t\")))\n",
    "\n",
    "print(a)"
   ]
  },
  {
   "cell_type": "code",
   "execution_count": 5,
   "id": "2c03b081-a883-4af8-81e6-2b724d58caa7",
   "metadata": {},
   "outputs": [],
   "source": [
    "def check_validity(a):\n",
    "    count = 0\n",
    "    for i in a:\n",
    "        count+=1\n",
    "    if count < 3:\n",
    "        return False\n",
    "    return True"
   ]
  },
  {
   "cell_type": "code",
   "execution_count": 6,
   "id": "63c4ac6f-d7dc-465c-b1fb-8f777b8a4066",
   "metadata": {},
   "outputs": [],
   "source": [
    "def minimum(a):\n",
    "    min_val = a[0]\n",
    "    for i in a:\n",
    "        if i <= min_val:\n",
    "            min_val = i\n",
    "    return min_val"
   ]
  },
  {
   "cell_type": "code",
   "execution_count": 7,
   "id": "fa361dfe-f55e-43bb-a4d3-bf5b4dc19d11",
   "metadata": {},
   "outputs": [],
   "source": [
    "def maximum(a):\n",
    "    max_val = a[0]\n",
    "    for i in a:\n",
    "        if i >= max_val:\n",
    "            max_val = i\n",
    "    return max_val"
   ]
  },
  {
   "cell_type": "code",
   "execution_count": 8,
   "id": "91ff5b87-6779-4f6f-969e-8a76ca5cb3d6",
   "metadata": {},
   "outputs": [],
   "source": [
    "def find_range(a):\n",
    "    if check_validity(a):\n",
    "        range_limit = maximum(a) - minimum(a)\n",
    "        return range_limit\n",
    "    else:\n",
    "        print(\"Range determination not possble\")\n",
    "        exit()"
   ]
  },
  {
   "cell_type": "code",
   "execution_count": 9,
   "id": "eec01cc6-9831-40a8-932d-1c4f2425845f",
   "metadata": {},
   "outputs": [
    {
     "name": "stdout",
     "output_type": "stream",
     "text": [
      "6\n"
     ]
    }
   ],
   "source": [
    "print(find_range(a))"
   ]
  },
  {
   "cell_type": "code",
   "execution_count": null,
   "id": "c80901cc-3887-4b84-a49e-c0c01f084920",
   "metadata": {},
   "outputs": [],
   "source": []
  },
  {
   "cell_type": "markdown",
   "id": "4a4c1176-c00d-44c1-b18b-08395fdd97ab",
   "metadata": {},
   "source": [
    "***3. Write a program that accepts a square matrix A and a positive integer m as arguments and\n",
    "returns A^m.***"
   ]
  },
  {
   "cell_type": "code",
   "execution_count": 17,
   "id": "78b46853-ad22-46a1-9ff8-d1a94bf06df4",
   "metadata": {},
   "outputs": [
    {
     "name": "stdin",
     "output_type": "stream",
     "text": [
      "enter size of matrix:\t 3\n",
      "mtx[0][0] =  1\n",
      "mtx[0][1] =  0\n",
      "mtx[0][2] =  0\n",
      "mtx[1][0] =  0\n",
      "mtx[1][1] =  1\n",
      "mtx[1][2] =  0\n",
      "mtx[2][0] =  0\n",
      "mtx[2][1] =  0\n",
      "mtx[2][2] =  1\n"
     ]
    },
    {
     "name": "stdout",
     "output_type": "stream",
     "text": [
      "[[1, 0, 0], [0, 1, 0], [0, 0, 1]]\n"
     ]
    }
   ],
   "source": [
    "size = int(input(\"enter size of matrix:\\t\"))\n",
    "matrix=[]\n",
    "for i in range(size):\n",
    "    row = []\n",
    "    for j in range(size):\n",
    "        row.append(int(input(f\"mtx[{i}][{j}] = \")))\n",
    "    matrix.append(row)\n",
    "print(matrix)"
   ]
  },
  {
   "cell_type": "code",
   "execution_count": 18,
   "id": "0e871032-c7ce-4c6e-abae-079a4631eeb2",
   "metadata": {},
   "outputs": [],
   "source": [
    "def matrix_multiply(A, B):\n",
    "    \"\"\"Multiplies two square matrices A and B.\"\"\"\n",
    "    n = len(A)  # Assuming A and B are n x n matrices\n",
    "    # Initialize the result matrix with zeros\n",
    "    result = [[0] * n for _ in range(n)]\n",
    "    \n",
    "    # Perform matrix multiplication\n",
    "    for i in range(n):\n",
    "        for j in range(n):\n",
    "            for k in range(n):\n",
    "                result[i][j] += A[i][k] * B[k][j]\n",
    "    \n",
    "    return result\n",
    "        "
   ]
  },
  {
   "cell_type": "code",
   "execution_count": 21,
   "id": "7cccfce3-9e9f-49c2-b70b-f82c9a515f82",
   "metadata": {},
   "outputs": [],
   "source": [
    "def matrix_power(A, m):\n",
    "    \"\"\"Raises the square matrix A to the power of m.\"\"\"\n",
    "    n = len(A)  # Assuming A is an n x n matrix\n",
    "    # Initialize the result as the identity matrix\n",
    "    result = [[1 if i == j else 0 for j in range(n)] for i in range(n)]\n",
    "    \n",
    "    # Multiply A with itself m times\n",
    "    for _ in range(m):\n",
    "        result = matrix_multiply(result, A)\n",
    "    \n",
    "    return result"
   ]
  },
  {
   "cell_type": "code",
   "execution_count": 22,
   "id": "cf7dca87-b182-4f18-bfa1-231faacd6ece",
   "metadata": {},
   "outputs": [
    {
     "name": "stdin",
     "output_type": "stream",
     "text": [
      "enter the exponent:\t 3\n"
     ]
    },
    {
     "name": "stdout",
     "output_type": "stream",
     "text": [
      "A^m:\n",
      "[1, 0, 0]\n",
      "[0, 1, 0]\n",
      "[0, 0, 1]\n"
     ]
    }
   ],
   "source": [
    "m = int(input(\"enter the exponent:\\t\"))\n",
    "result = matrix_power(matrix, m)\n",
    "print(\"A^m:\")\n",
    "for row in result:\n",
    "    print(row)"
   ]
  },
  {
   "cell_type": "code",
   "execution_count": null,
   "id": "127052f6-3e16-46ca-8085-7626f71d7163",
   "metadata": {},
   "outputs": [],
   "source": []
  },
  {
   "cell_type": "markdown",
   "id": "9ad6f6de-999f-41ea-9431-bddc72245a78",
   "metadata": {},
   "source": [
    "**4. Write a program to count the highest occurring character & its occurrence count in an input\n",
    "string. Consider only alphabets. Ex: for “hippopotamus” as input string, the maximally\n",
    "occurring character is ‘p’ & occurrence count is 3.**"
   ]
  },
  {
   "cell_type": "code",
   "execution_count": 23,
   "id": "bfaebb0f-4a88-486e-886c-4b3638f27d76",
   "metadata": {},
   "outputs": [
    {
     "name": "stdin",
     "output_type": "stream",
     "text": [
      "enter a word:\t hippopotamus\n"
     ]
    }
   ],
   "source": [
    "word = input(\"enter a word:\\t\")"
   ]
  },
  {
   "cell_type": "code",
   "execution_count": 26,
   "id": "5124952a-095f-4dfe-8a4e-d6edbb9232f3",
   "metadata": {},
   "outputs": [],
   "source": [
    "def count_highest_occurrence(s):\n",
    "    # Create an empty dictionary to store the frequency of each character\n",
    "    frequency = {}\n",
    "    \n",
    "    # Iterate over each character in the string\n",
    "    for char in s:\n",
    "        if 'a' <= char <= 'z' or 'A' <= char <= 'Z':  # Check if the character is an alphabet\n",
    "            char = char.lower()  # Convert to lowercase for case insensitivity\n",
    "            \n",
    "            # Update the frequency dictionary\n",
    "            if char in frequency:\n",
    "                frequency[char] += 1\n",
    "            else:\n",
    "                frequency[char] = 1\n",
    "    \n",
    "    # Initialize variables to track the highest occurring character and its count\n",
    "    max_char = ''\n",
    "    max_count = 0\n",
    "    \n",
    "    # Iterate over the frequency dictionary to find the highest occurring character\n",
    "    for char in frequency:\n",
    "        if frequency[char] > max_count:\n",
    "            max_char = char\n",
    "            max_count = frequency[char]\n",
    "    \n",
    "    return max_char, max_count"
   ]
  },
  {
   "cell_type": "code",
   "execution_count": 28,
   "id": "95caa0b7-9e13-491c-a7a1-15337dd0cc61",
   "metadata": {},
   "outputs": [
    {
     "name": "stdout",
     "output_type": "stream",
     "text": [
      "The maximally occurring character is 'p' & occurrence count is 3.\n"
     ]
    }
   ],
   "source": [
    "character, count = count_highest_occurrence(word)\n",
    "print(f\"The maximally occurring character is '{character}' & occurrence count is {count}.\")"
   ]
  },
  {
   "cell_type": "code",
   "execution_count": null,
   "id": "948e8670-f2ce-4be1-8f70-00e5336b9681",
   "metadata": {},
   "outputs": [],
   "source": []
  },
  {
   "cell_type": "code",
   "execution_count": null,
   "id": "27f9edb7-db51-4373-94c2-16ade3346155",
   "metadata": {},
   "outputs": [],
   "source": []
  }
 ],
 "metadata": {
  "kernelspec": {
   "display_name": "Python 3 (ipykernel)",
   "language": "python",
   "name": "python3"
  },
  "language_info": {
   "codemirror_mode": {
    "name": "ipython",
    "version": 3
   },
   "file_extension": ".py",
   "mimetype": "text/x-python",
   "name": "python",
   "nbconvert_exporter": "python",
   "pygments_lexer": "ipython3",
   "version": "3.12.4"
  }
 },
 "nbformat": 4,
 "nbformat_minor": 5
}
