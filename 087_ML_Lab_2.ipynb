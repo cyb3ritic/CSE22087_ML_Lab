{
  "nbformat": 4,
  "nbformat_minor": 0,
  "metadata": {
    "colab": {
      "provenance": [],
      "authorship_tag": "ABX9TyNriqsKB+vdyrvmrhmJjyRk",
      "include_colab_link": true
    },
    "kernelspec": {
      "name": "python3",
      "display_name": "Python 3"
    },
    "language_info": {
      "name": "python"
    }
  },
  "cells": [
    {
      "cell_type": "markdown",
      "metadata": {
        "id": "view-in-github",
        "colab_type": "text"
      },
      "source": [
        "<a href=\"https://colab.research.google.com/github/SanskarAgrahari-07/Machine-Learning/blob/main/ML_Lab2.ipynb\" target=\"_parent\"><img src=\"https://colab.research.google.com/assets/colab-badge.svg\" alt=\"Open In Colab\"/></a>"
      ]
    },
    {
      "cell_type": "code",
      "execution_count": 3,
      "metadata": {
        "id": "jbhPerMcU-1O",
        "colab": {
          "base_uri": "https://localhost:8080/"
        },
        "outputId": "a7bac15e-1e44-45d5-ac3a-c16def87334b"
      },
      "outputs": [
        {
          "output_type": "stream",
          "name": "stdout",
          "text": [
            "   Candies (#)  Mangoes (Kg)  Milk Packets (#)  Payment (Rs)\n",
            "0           20             6                 2           386\n",
            "1           16             3                 6           289\n",
            "2           27             6                 2           393\n",
            "3           19             1                 2           110\n",
            "4           24             4                 2           280\n",
            "5           22             1                 5           167\n",
            "6           15             4                 2           271\n",
            "7           18             4                 2           274\n",
            "8           21             1                 4           148\n",
            "9           16             2                 4           198\n",
            "   Candies (#)  Mangoes (Kg)  Milk Packets (#)\n",
            "0           20             6                 2\n",
            "1           16             3                 6\n",
            "2           27             6                 2\n",
            "3           19             1                 2\n",
            "4           24             4                 2\n",
            "5           22             1                 5\n",
            "6           15             4                 2\n",
            "7           18             4                 2\n",
            "8           21             1                 4\n",
            "9           16             2                 4\n",
            "\n",
            "0    386\n",
            "1    289\n",
            "2    393\n",
            "3    110\n",
            "4    280\n",
            "5    167\n",
            "6    271\n",
            "7    274\n",
            "8    148\n",
            "9    198\n",
            "Name: Payment (Rs), dtype: int64\n",
            "\n",
            "The dimension of Matrix A is (10, 3)\n",
            "The dimension of Matrix C is  (10,)\n",
            "The number of vectors in A is  10\n",
            "The number of vectors in C is  10\n",
            "The rank of matrix A is  3\n",
            "The cost of each product is  [ 1. 55. 18.]\n"
          ]
        }
      ],
      "source": [
        "import pandas as pd\n",
        "import numpy as np\n",
        "\n",
        "df = pd.read_excel('Lab Session Data.xlsx')\n",
        "\n",
        "data = df.iloc[0:12, 1:5]\n",
        "\n",
        "A = data.iloc[:, :-1]\n",
        "C = data.iloc[:, -1]\n",
        "\n",
        "print(data)\n",
        "print(A)\n",
        "print()\n",
        "print(C)\n",
        "print()\n",
        "\n",
        "dim_A = np.shape(A)\n",
        "dim_C = np.shape(C)\n",
        "\n",
        "print(\"The dimension of Matrix A is\", dim_A)\n",
        "print(\"The dimension of Matrix C is \", dim_C)\n",
        "\n",
        "vectors_A = A.shape[0]\n",
        "vectors_C = C.shape[0]\n",
        "\n",
        "print(\"The number of vectors in A is \",vectors_A)\n",
        "print(\"The number of vectors in C is \",vectors_C)\n",
        "\n",
        "rank_A = np.linalg.matrix_rank(A)\n",
        "print(\"The rank of matrix A is \",rank_A)\n",
        "\n",
        "inverse_A = np.linalg.pinv(A)\n",
        "X = np.dot(inverse_A,C)\n",
        "print(\"The cost of each product is \",X)\n",
        "\n",
        "\n",
        "\n"
      ]
    },
    {
      "cell_type": "code",
      "source": [
        "import pandas as pd\n",
        "import numpy as np\n",
        "\n",
        "df = pd.read_excel('Lab Session Data.xlsx')\n",
        "\n",
        "data = df.iloc[0:12, 1:5]\n",
        "\n",
        "A = data.iloc[:, :-1]\n",
        "C = data.iloc[:, -1]\n",
        "\n",
        "inverse_A = np.linalg.pinv(A)\n",
        "X = np.dot(inverse_A,C)\n",
        "print(\"The cost of each product is \",X)\n"
      ],
      "metadata": {
        "colab": {
          "base_uri": "https://localhost:8080/"
        },
        "id": "jWuolnDUqBbI",
        "outputId": "b5065e03-d1b1-49d9-e442-e42ff01c628b"
      },
      "execution_count": 4,
      "outputs": [
        {
          "output_type": "stream",
          "name": "stdout",
          "text": [
            "The cost of each product is  [ 1. 55. 18.]\n"
          ]
        }
      ]
    },
    {
      "cell_type": "code",
      "source": [
        "import pandas as pd\n",
        "import numpy as np\n",
        "\n",
        "file_path = ('Lab Session Data.xlsx')\n",
        "\n",
        "sheet_name = 'IRCTC Stock Price'\n",
        "\n",
        "df = pd.read_excel(file_path, sheet_name=sheet_name)\n",
        "\n",
        "print(df)\n",
        "\n",
        "column_data = df['Price']\n",
        "\n",
        "Mean = np.mean(column_data)\n",
        "Variance = np.var(column_data)\n",
        "\n",
        "print(\"The mean of the price data is\",Mean)\n",
        "print(\"The varaince of the price data is\",Variance)\n",
        "\n",
        "#comparing the mean of all Wednesdays with the mean of the price column\n",
        "print()\n",
        "Wednesdays_count = df[df['Day']=='Wed']\n",
        "sample_mean = Wednesdays_count['Price'].mean()\n",
        "print(\"The sample mean of the Wednesdays is\",sample_mean)\n",
        "print()\n",
        "\n",
        "if(Mean > sample_mean):\n",
        "  print(\"The actual mean is greater than the sample mean\")\n",
        "else:\n",
        "  print(\"The sample mean is greater than the actual mean\")\n",
        "\n",
        "april_count = df[df['Month']=='Apr']\n",
        "april_mean = april_count['Price'].mean();\n",
        "print(\"The mean of the april month is\",april_mean)\n",
        "\n"
      ],
      "metadata": {
        "colab": {
          "base_uri": "https://localhost:8080/"
        },
        "id": "-8apXBmBroYl",
        "outputId": "19704158-8ad6-4050-b005-d5bf41cf3110"
      },
      "execution_count": 17,
      "outputs": [
        {
          "output_type": "stream",
          "name": "stdout",
          "text": [
            "             Date Month  Day    Price     Open     High      Low   Volume  \\\n",
            "0    Jun 29, 2021   Jun  Tue  2081.85  2092.00  2126.90  2065.05    1.67M   \n",
            "1    Jun 28, 2021   Jun  Mon  2077.75  2084.00  2112.45  2068.40  707.73K   \n",
            "2    Jun 25, 2021   Jun  Fri  2068.85  2084.35  2088.50  2053.10  475.82K   \n",
            "3    Jun 24, 2021   Jun  Thu  2072.95  2098.00  2098.00  2066.00  541.51K   \n",
            "4    Jun 23, 2021   Jun  Wed  2078.25  2102.00  2111.40  2072.00  809.62K   \n",
            "..            ...   ...  ...      ...      ...      ...      ...      ...   \n",
            "244  Jul 07, 2020   Jul  Tue  1397.40  1410.00  1411.00  1390.05  480.21K   \n",
            "245  Jul 06, 2020   Jul  Mon  1400.75  1405.50  1415.50  1394.00  614.93K   \n",
            "246  Jul 03, 2020   Jul  Fri  1405.10  1415.00  1425.00  1398.00  599.49K   \n",
            "247  Jul 02, 2020   Jul  Thu  1412.35  1440.00  1467.80  1395.30    2.16M   \n",
            "248  Jul 01, 2020   Jul  Wed  1363.05  1363.65  1377.00  1356.00  383.00K   \n",
            "\n",
            "       Chg%  \n",
            "0    0.0020  \n",
            "1    0.0043  \n",
            "2   -0.0020  \n",
            "3   -0.0026  \n",
            "4   -0.0023  \n",
            "..      ...  \n",
            "244 -0.0024  \n",
            "245 -0.0031  \n",
            "246 -0.0051  \n",
            "247  0.0362  \n",
            "248  0.0032  \n",
            "\n",
            "[249 rows x 9 columns]\n",
            "The mean of the price data is 1560.6634538152612\n",
            "The varaince of the price data is 58496.49239931613\n",
            "\n",
            "The sample mean of the Wednesdays is 1550.7060000000001\n",
            "\n",
            "The actual mean is greater than the sample mean\n",
            "The mean of the april month is 1698.9526315789474\n"
          ]
        }
      ]
    },
    {
      "cell_type": "code",
      "source": [],
      "metadata": {
        "id": "-5eqVixmwgm_"
      },
      "execution_count": null,
      "outputs": []
    }
  ]
}